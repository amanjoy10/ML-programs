{
 "cells": [
  {
   "cell_type": "code",
   "execution_count": 1,
   "id": "1babf047",
   "metadata": {},
   "outputs": [
    {
     "name": "stdout",
     "output_type": "stream",
     "text": [
      "Enter the length:57\n",
      "Enter the breadth:34\n",
      "Area of the field in acres : 0.044490358126721766\n"
     ]
    }
   ],
   "source": [
    "#) 1.Create a program that reads the length and width of a farmer’s field from the user in\n",
    "#feet. Display the area of the field in acres.\n",
    "length = float(input('Enter the length:'))\n",
    "width = float(input('Enter the breadth:'))\n",
    "\n",
    "area_of_field = (length*width)/43560\n",
    "\n",
    "print(\"Area of the field in acres :\",area_of_field)\n",
    "\n"
   ]
  },
  {
   "cell_type": "code",
   "execution_count": 1,
   "id": "05c224a0",
   "metadata": {},
   "outputs": [
    {
     "name": "stdout",
     "output_type": "stream",
     "text": [
      "Enter the length in meters:6\n",
      "Enter the breadth in meters:4\n",
      "Area of the room 24.0 square meters\n"
     ]
    }
   ],
   "source": [
    "#2\n",
    "length = float(input('Enter the length in meters:'))\n",
    "width = float(input('Enter the breadth in meters:'))\n",
    "\n",
    "area = length*width\n",
    "\n",
    "print(f'Area of the room {area} square meters')\n",
    "\n",
    "      "
   ]
  },
  {
   "cell_type": "code",
   "execution_count": 2,
   "id": "55d79fbf",
   "metadata": {},
   "outputs": [
    {
     "name": "stdout",
     "output_type": "stream",
     "text": [
      "The Current time and Date is :  Fri Aug 16 09:16:30 2024\n"
     ]
    }
   ],
   "source": [
    "#3\n",
    "import time\n",
    "current_time=time.asctime()\n",
    "print(\"The Current time and Date is : \",current_time)\n",
    "\n"
   ]
  },
  {
   "cell_type": "code",
   "execution_count": 4,
   "id": "c04f5b29",
   "metadata": {},
   "outputs": [
    {
     "name": "stdout",
     "output_type": "stream",
     "text": [
      "Sorted data:  [6, 9, 10, 11, 12, 13, 14, 15, 16, 18]\n",
      "InterQuartile Range :  4.5\n",
      "Outliers are [3.5,21.5]\n",
      "\n",
      "Five Number Summary table\n",
      "\n",
      "Min value\t|\tQ1 Value\t|\tMedian\t|\tQ3 value\t|\tMax Value\n",
      "6\t\t|\t10.25\t\t|\t12.5\t|\t14.75\t\t|\t18\n"
     ]
    }
   ],
   "source": [
    "#4\n",
    "import numpy as np\n",
    "\n",
    "data = [16, 9, 14, 11, 13, 6, 18, 15, 10, 12]\n",
    "#data = list(map(int, input(\"Enter 10 integers separated by commas: \").split(',')))\n",
    "\n",
    "\n",
    "#sorted data\n",
    "sorted_data=sorted(data)\n",
    "print(\"Sorted data: \",sorted_data)\n",
    "\n",
    "#min and max value\n",
    "min_val=np.min(sorted_data)\n",
    "max_val=np.max(sorted_data)\n",
    "\n",
    "#iqr\n",
    "q1=np.percentile(sorted_data,25)\n",
    "median=np.median(sorted_data)\n",
    "q3=np.percentile(sorted_data,75)\n",
    "iqr=q3-q1\n",
    "print(\"InterQuartile Range : \",iqr)\n",
    "\n",
    "#outliers\n",
    "lower_bound=q1-(1.5*iqr)\n",
    "upper_bound=q3+(1.5*iqr)\n",
    "print(f\"Outliers are [{lower_bound},{upper_bound}]\")\n",
    "\n",
    "print(\"\\nFive Number Summary table\\n\")\n",
    "print(\"Min value\\t|\\tQ1 Value\\t|\\tMedian\\t|\\tQ3 value\\t|\\tMax Value\")\n",
    "print(f\"{min_val}\\t\\t|\\t{q1}\\t\\t|\\t{median}\\t|\\t{q3}\\t\\t|\\t{max_val}\")\n"
   ]
  },
  {
   "cell_type": "code",
   "execution_count": 6,
   "id": "82f80454",
   "metadata": {},
   "outputs": [
    {
     "name": "stdout",
     "output_type": "stream",
     "text": [
      "Enter a alphabet: a\n",
      "a is an vowel\n"
     ]
    }
   ],
   "source": [
    "#5\n",
    "word_input = input(\"Enter a alphabet: \")\n",
    "word=word_input.lower()\n",
    "if word == 'a' or word == 'e' or  word == 'i' or word == 'o' or word == 'u' :\n",
    "    print(f\"{word} is an vowel\")\n",
    "elif word == 'y':\n",
    "    print(f\"{word} is an vowel or an consonant\")\n",
    "else:\n",
    "    print(f\"{word} is an consonant\")\n"
   ]
  },
  {
   "cell_type": "code",
   "execution_count": 7,
   "id": "1bd93930",
   "metadata": {},
   "outputs": [
    {
     "name": "stdout",
     "output_type": "stream",
     "text": [
      "Enter a sound level in decibels200\n",
      "loudest noice\n"
     ]
    }
   ],
   "source": [
    "#6\n",
    "sound_level = int(input(\"Enter a sound level in decibels\"))\n",
    "if sound_level == 130:\n",
    "    print(\"Jackhammer\")\n",
    "elif sound_level > 130:\n",
    "    print(\"loudest noice\")\n",
    "elif sound_level == 106:\n",
    "    print(\"Gas lawnmower\")\n",
    "elif sound_level in range(106,130):\n",
    "    print (\"a medium noice\")\n",
    "elif sound_level == 70:\n",
    "    print(\"Alarm clock\")\n",
    "elif sound_level == 40:\n",
    "    print(\"Quiet room\")\n",
    "elif sound_level in range(40,70):\n",
    "    print(\"moderate noice\")\n",
    "else:\n",
    "    print(\"lighter noice\")\n"
   ]
  },
  {
   "cell_type": "code",
   "execution_count": 2,
   "id": "51887c82",
   "metadata": {},
   "outputs": [
    {
     "name": "stdout",
     "output_type": "stream",
     "text": [
      "Mean of the marks 35.6\n",
      "Mean of marks afrer 2 marks is increased 37.6\n",
      "Mean of marks afrer 1 marks is decremented 34.6\n",
      "Mean of marks afrer  marks is halfed 17.8\n"
     ]
    }
   ],
   "source": [
    "#7\n",
    "import numpy as np\n",
    "marks =[38, 41, 36, 31, 45, 38, 27, 32, 29, 39]\n",
    "\n",
    "#mean\n",
    "print(\"Mean of the marks\",np.mean(marks))\n",
    "\n",
    "#when marks increased by 2\n",
    "marks_incr_by_2=[mark + 2 for mark in marks]\n",
    "print(\"Mean of marks afrer 2 marks is increased\",np.mean(marks_incr_by_2))\n",
    "\n",
    "#when marks is deducted by 1\n",
    "marks_decr_by_1=[mark-1 for mark in marks]\n",
    "print(\"Mean of marks afrer 1 marks is decremented\",np.mean(marks_decr_by_1))\n",
    "\n",
    "#when mark is halfed\n",
    "marks_half = [ mark * 0.5 for mark in marks]\n",
    "print(\"Mean of marks afrer  marks is halfed\",np.mean(marks_half))\n"
   ]
  },
  {
   "cell_type": "code",
   "execution_count": 5,
   "id": "11ef2b8c",
   "metadata": {},
   "outputs": [
    {
     "name": "stdout",
     "output_type": "stream",
     "text": [
      "Enter the list of number seperated by comma : 2,3,4,5,3,2,1,8,7,5\n",
      "Enter a value for n : 4\n",
      "Original List : [2.0, 3.0, 4.0, 5.0, 3.0, 2.0, 1.0, 8.0, 7.0, 5.0]\n",
      "Sorted List : [1.0, 2.0, 2.0, 3.0, 3.0, 4.0, 5.0, 5.0, 7.0, 8.0]\n",
      "Outlier removed list: [3.0, 4.0]\n"
     ]
    }
   ],
   "source": [
    "#8\n",
    "def checkInput(xlist,y):\n",
    "    if len(xlist) < 4:\n",
    "        print(\"Error!,number of list elements must than greater than 4\")\n",
    "        return False\n",
    "    if y<0 :\n",
    "         print(\"n value cannot be negative\")\n",
    "         return False\n",
    "    return True\n",
    "\n",
    "def removeElements(x,y):\n",
    "    sortedList=sorted(x)\n",
    "    outlierList=sortedList[y:-y]\n",
    "    print(\"Original List :\",x)\n",
    "    print(\"Sorted List :\",sortedList)\n",
    "    print(\"Outlier removed list:\",outlierList),\n",
    "\n",
    "def main_block():\n",
    "    try:\n",
    "        userInput=list(map(float,input(\"Enter the list of number seperated by comma : \").split(',')))\n",
    "        n=int(input(\"Enter a value for n : \"))\n",
    "        if checkInput(userInput,n):\n",
    "            removeElements(userInput,n)\n",
    "    except ValueError:\n",
    "        print(\"Invalid input error,enter only numeric values\")\n",
    "\n",
    "main_block()\n"
   ]
  },
  {
   "cell_type": "code",
   "execution_count": null,
   "id": "fd2031a3",
   "metadata": {},
   "outputs": [],
   "source": []
  }
 ],
 "metadata": {
  "kernelspec": {
   "display_name": "Python 3 (ipykernel)",
   "language": "python",
   "name": "python3"
  },
  "language_info": {
   "codemirror_mode": {
    "name": "ipython",
    "version": 3
   },
   "file_extension": ".py",
   "mimetype": "text/x-python",
   "name": "python",
   "nbconvert_exporter": "python",
   "pygments_lexer": "ipython3",
   "version": "3.9.13"
  }
 },
 "nbformat": 4,
 "nbformat_minor": 5
}
